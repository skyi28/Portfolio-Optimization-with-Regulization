{
 "cells": [
  {
   "cell_type": "markdown",
   "metadata": {},
   "source": [
    "<h1>Portfolio Optimization with Regulization</h1>\n",
    "\n",
    "<p style='text-align: justify'>This project aims to optimize a portfolio using the minimum variance portfolio, while incorporating regularization techniques. The regularization method used is L1 (Lasso) regression, which promotes sparsity by adding a penalty term to the loss function. The code is based on the paper <a href='https://www.ecb.europa.eu/pub/pdf/scpwps/ecbwp936.pdf'>Sparse and stable Markowitz portfolios</a> published by Joshua Bordie, Ingrid Daubechies, Christine De Mol, Domenico Giannone and Ignace Loris.</p>"
   ]
  },
  {
   "cell_type": "markdown",
   "metadata": {},
   "source": [
    "<h2>Part I - Implementing necessary functions</h2>"
   ]
  },
  {
   "cell_type": "markdown",
   "metadata": {},
   "source": [
    "<h3>Import required packages</h3>"
   ]
  },
  {
   "cell_type": "code",
   "execution_count": 2,
   "metadata": {},
   "outputs": [],
   "source": [
    "# Data source and manipulation\n",
    "import pandas_datareader\n",
    "import pandas as pd\n",
    "\n",
    "# Checking for stationarity\n",
    "from statsmodels.tsa.stattools import adfuller\n",
    "\n",
    "# Mathematical operations and optimizations\n",
    "import cvxpy as cp \n",
    "import numpy as np\n",
    "\n",
    "# Plotting\n",
    "import matplotlib.pyplot as plt\n",
    "\n",
    "# Ignore warnings\n",
    "from warnings import filterwarnings\n",
    "filterwarnings('ignore')"
   ]
  },
  {
   "cell_type": "markdown",
   "metadata": {},
   "source": [
    "<h3>Receiving Data</h3>\n",
    "The projects utilizes historic returns from portfolios provided by the Fama/French database. The pandas data reader is used to make the necessary API calls to receive data from the online database."
   ]
  },
  {
   "cell_type": "code",
   "execution_count": 3,
   "metadata": {},
   "outputs": [],
   "source": [
    "def get_available_fama_french_datasets() -> list[str]:\n",
    "    \"\"\"\n",
    "    This function retrieves a list of available datasets from the Fama/French database.\n",
    "    \n",
    "    Parameters:\n",
    "    None\n",
    "    \n",
    "    Returns:\n",
    "    list[str]: A list of strings representing the available datasets.\n",
    "    \"\"\"\n",
    "    return pandas_datareader.famafrench.get_available_datasets()\n",
    "\n",
    "def get_fama_french_data(dataset_name: str, start: str = None, end: str = None, print_description: bool = False) -> pd.DataFrame:\n",
    "    \"\"\"\n",
    "    This function retrieves and processes data from the Fama/French database. For further information check the documentation at:\n",
    "    https://pandas-datareader.readthedocs.io/en/latest/readers/famafrench.html. \n",
    "    \n",
    "    Parameters:\n",
    "    dataset_name (str): The name of the dataset to retrieve.\n",
    "    start (str, optional): The start date for the data retrieval.\n",
    "    end (str, optional): The end date for the data retrieval. If not provided, data will end at the latest available date.\n",
    "    print_description (bool, optional): If True, the function will print the description of the dataset. Default is False.\n",
    "    \n",
    "    Returns:\n",
    "    pd.DataFrame: A pandas DataFrame containing the retrieved data. If an error occurs during retrieval or processing, the function returns None.\n",
    "    \"\"\"\n",
    "    # Try to download the specified dataset from the fama french database\n",
    "    try:\n",
    "        data: dict = pandas_datareader.famafrench.FamaFrenchReader(dataset_name, start=start, end=end).read()\n",
    "    except Exception as e:\n",
    "        print(f\"Error fetching data for dataset '{dataset_name}': {str(e)}\")\n",
    "        return None\n",
    "    \n",
    "    # Print dataset description if requested\n",
    "    try:\n",
    "        if print_description:\n",
    "            print(data['DESCR'])\n",
    "    except KeyError as e:\n",
    "        print(f\"No dataset description found for dataset '{dataset_name}'\")\n",
    "    \n",
    "    # Return the DataFrame from the loaded dataset\n",
    "    try:\n",
    "        return data[0]\n",
    "    except KeyError as e:\n",
    "        print(f\"No DataFrame found for dataset '{dataset_name}'\")\n",
    "        return None\n",
    "    \n",
    "def convert_percentage_to_decimal(dataset: pd.DataFrame) -> pd.DataFrame:\n",
    "    \"\"\"\n",
    "    This function converts the percentage values in a pandas DataFrame to decimal form.\n",
    "    \n",
    "    Parameters:\n",
    "    dataset (pd.DataFrame): The DataFrame containing the percentage values. The DataFrame should have column names.\n",
    "    \n",
    "    Returns:\n",
    "    pd.DataFrame: The DataFrame with the percentage values converted to decimal form. If a TypeError occurs during the conversion,\n",
    "    the function prints an error message and returns the original DataFrame.\n",
    "    \"\"\"\n",
    "    for col in dataset.columns:\n",
    "        try:\n",
    "            dataset[col] = dataset[col] / 100\n",
    "        except TypeError as e:\n",
    "            print(f\"Unable to convert column '{col}' to decimal: {e}\")\n",
    "    return dataset"
   ]
  },
  {
   "cell_type": "markdown",
   "metadata": {},
   "source": [
    "<h3>Download the data for a portfolio consisting of sub portfolios representing 48 industries</h3>"
   ]
  },
  {
   "cell_type": "code",
   "execution_count": 4,
   "metadata": {},
   "outputs": [
    {
     "data": {
      "application/vnd.microsoft.datawrangler.viewer.v0+json": {
       "columns": [
        {
         "name": "Date",
         "rawType": "datetime64[ns]",
         "type": "datetime"
        },
        {
         "name": "Agric",
         "rawType": "float64",
         "type": "float"
        },
        {
         "name": "Food ",
         "rawType": "float64",
         "type": "float"
        },
        {
         "name": "Soda ",
         "rawType": "float64",
         "type": "float"
        },
        {
         "name": "Beer ",
         "rawType": "float64",
         "type": "float"
        },
        {
         "name": "Smoke",
         "rawType": "float64",
         "type": "float"
        },
        {
         "name": "Toys ",
         "rawType": "float64",
         "type": "float"
        },
        {
         "name": "Fun  ",
         "rawType": "float64",
         "type": "float"
        },
        {
         "name": "Books",
         "rawType": "float64",
         "type": "float"
        },
        {
         "name": "Hshld",
         "rawType": "float64",
         "type": "float"
        },
        {
         "name": "Clths",
         "rawType": "float64",
         "type": "float"
        },
        {
         "name": "Hlth ",
         "rawType": "float64",
         "type": "float"
        },
        {
         "name": "MedEq",
         "rawType": "float64",
         "type": "float"
        },
        {
         "name": "Drugs",
         "rawType": "float64",
         "type": "float"
        },
        {
         "name": "Chems",
         "rawType": "float64",
         "type": "float"
        },
        {
         "name": "Rubbr",
         "rawType": "float64",
         "type": "float"
        },
        {
         "name": "Txtls",
         "rawType": "float64",
         "type": "float"
        },
        {
         "name": "BldMt",
         "rawType": "float64",
         "type": "float"
        },
        {
         "name": "Cnstr",
         "rawType": "float64",
         "type": "float"
        },
        {
         "name": "Steel",
         "rawType": "float64",
         "type": "float"
        },
        {
         "name": "FabPr",
         "rawType": "float64",
         "type": "float"
        },
        {
         "name": "Mach ",
         "rawType": "float64",
         "type": "float"
        },
        {
         "name": "ElcEq",
         "rawType": "float64",
         "type": "float"
        },
        {
         "name": "Autos",
         "rawType": "float64",
         "type": "float"
        },
        {
         "name": "Aero ",
         "rawType": "float64",
         "type": "float"
        },
        {
         "name": "Ships",
         "rawType": "float64",
         "type": "float"
        },
        {
         "name": "Guns ",
         "rawType": "float64",
         "type": "float"
        },
        {
         "name": "Gold ",
         "rawType": "float64",
         "type": "float"
        },
        {
         "name": "Mines",
         "rawType": "float64",
         "type": "float"
        },
        {
         "name": "Coal ",
         "rawType": "float64",
         "type": "float"
        },
        {
         "name": "Oil  ",
         "rawType": "float64",
         "type": "float"
        },
        {
         "name": "Util ",
         "rawType": "float64",
         "type": "float"
        },
        {
         "name": "Telcm",
         "rawType": "float64",
         "type": "float"
        },
        {
         "name": "PerSv",
         "rawType": "float64",
         "type": "float"
        },
        {
         "name": "BusSv",
         "rawType": "float64",
         "type": "float"
        },
        {
         "name": "Comps",
         "rawType": "float64",
         "type": "float"
        },
        {
         "name": "Chips",
         "rawType": "float64",
         "type": "float"
        },
        {
         "name": "LabEq",
         "rawType": "float64",
         "type": "float"
        },
        {
         "name": "Paper",
         "rawType": "float64",
         "type": "float"
        },
        {
         "name": "Boxes",
         "rawType": "float64",
         "type": "float"
        },
        {
         "name": "Trans",
         "rawType": "float64",
         "type": "float"
        },
        {
         "name": "Whlsl",
         "rawType": "float64",
         "type": "float"
        },
        {
         "name": "Rtail",
         "rawType": "float64",
         "type": "float"
        },
        {
         "name": "Meals",
         "rawType": "float64",
         "type": "float"
        },
        {
         "name": "Banks",
         "rawType": "float64",
         "type": "float"
        },
        {
         "name": "Insur",
         "rawType": "float64",
         "type": "float"
        },
        {
         "name": "RlEst",
         "rawType": "float64",
         "type": "float"
        },
        {
         "name": "Fin  ",
         "rawType": "float64",
         "type": "float"
        },
        {
         "name": "Other",
         "rawType": "float64",
         "type": "float"
        }
       ],
       "conversionMethod": "pd.DataFrame",
       "ref": "fc8583ce-412c-4b2b-9a85-ddd13b909717",
       "rows": [
        [
         "2020-03-04 00:00:00",
         "0.0332",
         "0.0404",
         "0.0526",
         "0.0443",
         "0.057300000000000004",
         "0.028300000000000002",
         "0.028999999999999998",
         "0.0212",
         "0.0483",
         "0.0329",
         "0.0542",
         "0.0398",
         "0.052000000000000005",
         "0.037599999999999995",
         "0.031",
         "0.0417",
         "0.0454",
         "0.0431",
         "0.0259",
         "0.0351",
         "0.035",
         "0.0412",
         "0.0177",
         "0.0292",
         "0.0279",
         "0.0625",
         "0.027000000000000003",
         "0.042",
         "0.022799999999999997",
         "0.0209",
         "0.0524",
         "0.0378",
         "0.03",
         "0.037000000000000005",
         "0.0335",
         "0.04769999999999999",
         "0.046799999999999994",
         "0.050300000000000004",
         "0.0319",
         "0.0392",
         "0.032",
         "0.0378",
         "0.0292",
         "0.0301",
         "0.0728",
         "0.0259",
         "0.0235",
         "0.0408"
        ],
        [
         "2020-03-05 00:00:00",
         "-0.048799999999999996",
         "-0.0167",
         "-0.034",
         "-0.024900000000000002",
         "-0.0129",
         "-0.0374",
         "-0.0472",
         "-0.041299999999999996",
         "-0.0252",
         "-0.0393",
         "-0.0262",
         "-0.0292",
         "-0.0167",
         "-0.0351",
         "-0.0381",
         "-0.0342",
         "-0.0481",
         "-0.036000000000000004",
         "-0.0555",
         "-0.0425",
         "-0.04190000000000001",
         "-0.038900000000000004",
         "-0.0406",
         "-0.07519999999999999",
         "-0.0484",
         "-0.0446",
         "0.0194",
         "-0.032400000000000005",
         "-0.0527",
         "-0.0375",
         "-0.0173",
         "-0.0319",
         "-0.0347",
         "-0.0344",
         "-0.0338",
         "-0.034300000000000004",
         "-0.0358",
         "-0.0246",
         "-0.0316",
         "-0.051699999999999996",
         "-0.035",
         "-0.024700000000000003",
         "-0.0506",
         "-0.0481",
         "-0.0342",
         "-0.0424",
         "-0.0424",
         "-0.040999999999999995"
        ],
        [
         "2020-03-06 00:00:00",
         "-0.06269999999999999",
         "-0.013300000000000001",
         "-0.023700000000000002",
         "-0.0079",
         "-0.0129",
         "-0.0348",
         "-0.009899999999999999",
         "0.0008",
         "-0.0034999999999999996",
         "-0.0182",
         "-0.013300000000000001",
         "-0.0131",
         "-0.0043",
         "-0.0262",
         "-0.0036",
         "-0.0059",
         "-0.0378",
         "-0.030899999999999997",
         "-0.0336",
         "-0.0622",
         "-0.0106",
         "-0.0191",
         "-0.028300000000000002",
         "-0.0051",
         "-0.0204",
         "-0.0085",
         "0.0019",
         "-0.0218",
         "-0.0334",
         "-0.056900000000000006",
         "-0.011899999999999999",
         "-0.0072",
         "-0.011000000000000001",
         "-0.025",
         "-0.011399999999999999",
         "-0.0166",
         "-0.012",
         "0.0095",
         "-0.0163",
         "-0.0022",
         "-0.0213",
         "-0.0083",
         "-0.0036",
         "-0.0335",
         "-0.0139",
         "-0.033",
         "-0.0297",
         "-0.0169"
        ],
        [
         "2020-03-09 00:00:00",
         "-0.0843",
         "-0.0454",
         "-0.061799999999999994",
         "-0.0592",
         "-0.0567",
         "-0.0849",
         "-0.0833",
         "-0.0796",
         "-0.049400000000000006",
         "-0.0716",
         "-0.0675",
         "-0.06509999999999999",
         "-0.0535",
         "-0.0962",
         "-0.0661",
         "-0.0629",
         "-0.0898",
         "-0.1009",
         "-0.13369999999999999",
         "-0.203",
         "-0.09720000000000001",
         "-0.1082",
         "-0.11380000000000001",
         "-0.1082",
         "-0.09380000000000001",
         "-0.0805",
         "-0.0907",
         "-0.0971",
         "-0.1458",
         "-0.19879999999999998",
         "-0.0718",
         "-0.06570000000000001",
         "-0.0635",
         "-0.0703",
         "-0.0716",
         "-0.08039999999999999",
         "-0.0758",
         "-0.0608",
         "-0.07440000000000001",
         "-0.0964",
         "-0.0791",
         "-0.0446",
         "-0.0643",
         "-0.1193",
         "-0.075",
         "-0.1013",
         "-0.0892",
         "-0.0702"
        ],
        [
         "2020-03-10 00:00:00",
         "0.1061",
         "0.020499999999999997",
         "0.0397",
         "0.0231",
         "0.0405",
         "0.0181",
         "0.061399999999999996",
         "0.049",
         "0.0365",
         "0.0441",
         "0.0165",
         "0.045599999999999995",
         "0.029900000000000003",
         "0.0496",
         "0.0259",
         "0.0416",
         "0.0443",
         "0.0341",
         "0.0529",
         "-0.0121",
         "0.049400000000000006",
         "0.07139999999999999",
         "0.061799999999999994",
         "0.0338",
         "0.0717",
         "0.0398",
         "0.0127",
         "0.06269999999999999",
         "0.021099999999999997",
         "0.0546",
         "0.0125",
         "0.0394",
         "0.0123",
         "0.055099999999999996",
         "0.051699999999999996",
         "0.0663",
         "0.0421",
         "0.0421",
         "0.0339",
         "0.0535",
         "0.0416",
         "0.0431",
         "0.056100000000000004",
         "0.06860000000000001",
         "0.0446",
         "0.0508",
         "0.0535",
         "0.047599999999999996"
        ]
       ],
       "shape": {
        "columns": 48,
        "rows": 5
       }
      },
      "text/html": [
       "<div>\n",
       "<style scoped>\n",
       "    .dataframe tbody tr th:only-of-type {\n",
       "        vertical-align: middle;\n",
       "    }\n",
       "\n",
       "    .dataframe tbody tr th {\n",
       "        vertical-align: top;\n",
       "    }\n",
       "\n",
       "    .dataframe thead th {\n",
       "        text-align: right;\n",
       "    }\n",
       "</style>\n",
       "<table border=\"1\" class=\"dataframe\">\n",
       "  <thead>\n",
       "    <tr style=\"text-align: right;\">\n",
       "      <th></th>\n",
       "      <th>Agric</th>\n",
       "      <th>Food</th>\n",
       "      <th>Soda</th>\n",
       "      <th>Beer</th>\n",
       "      <th>Smoke</th>\n",
       "      <th>Toys</th>\n",
       "      <th>Fun</th>\n",
       "      <th>Books</th>\n",
       "      <th>Hshld</th>\n",
       "      <th>Clths</th>\n",
       "      <th>...</th>\n",
       "      <th>Boxes</th>\n",
       "      <th>Trans</th>\n",
       "      <th>Whlsl</th>\n",
       "      <th>Rtail</th>\n",
       "      <th>Meals</th>\n",
       "      <th>Banks</th>\n",
       "      <th>Insur</th>\n",
       "      <th>RlEst</th>\n",
       "      <th>Fin</th>\n",
       "      <th>Other</th>\n",
       "    </tr>\n",
       "    <tr>\n",
       "      <th>Date</th>\n",
       "      <th></th>\n",
       "      <th></th>\n",
       "      <th></th>\n",
       "      <th></th>\n",
       "      <th></th>\n",
       "      <th></th>\n",
       "      <th></th>\n",
       "      <th></th>\n",
       "      <th></th>\n",
       "      <th></th>\n",
       "      <th></th>\n",
       "      <th></th>\n",
       "      <th></th>\n",
       "      <th></th>\n",
       "      <th></th>\n",
       "      <th></th>\n",
       "      <th></th>\n",
       "      <th></th>\n",
       "      <th></th>\n",
       "      <th></th>\n",
       "      <th></th>\n",
       "    </tr>\n",
       "  </thead>\n",
       "  <tbody>\n",
       "    <tr>\n",
       "      <th>2020-03-04</th>\n",
       "      <td>0.0332</td>\n",
       "      <td>0.0404</td>\n",
       "      <td>0.0526</td>\n",
       "      <td>0.0443</td>\n",
       "      <td>0.0573</td>\n",
       "      <td>0.0283</td>\n",
       "      <td>0.0290</td>\n",
       "      <td>0.0212</td>\n",
       "      <td>0.0483</td>\n",
       "      <td>0.0329</td>\n",
       "      <td>...</td>\n",
       "      <td>0.0319</td>\n",
       "      <td>0.0392</td>\n",
       "      <td>0.0320</td>\n",
       "      <td>0.0378</td>\n",
       "      <td>0.0292</td>\n",
       "      <td>0.0301</td>\n",
       "      <td>0.0728</td>\n",
       "      <td>0.0259</td>\n",
       "      <td>0.0235</td>\n",
       "      <td>0.0408</td>\n",
       "    </tr>\n",
       "    <tr>\n",
       "      <th>2020-03-05</th>\n",
       "      <td>-0.0488</td>\n",
       "      <td>-0.0167</td>\n",
       "      <td>-0.0340</td>\n",
       "      <td>-0.0249</td>\n",
       "      <td>-0.0129</td>\n",
       "      <td>-0.0374</td>\n",
       "      <td>-0.0472</td>\n",
       "      <td>-0.0413</td>\n",
       "      <td>-0.0252</td>\n",
       "      <td>-0.0393</td>\n",
       "      <td>...</td>\n",
       "      <td>-0.0316</td>\n",
       "      <td>-0.0517</td>\n",
       "      <td>-0.0350</td>\n",
       "      <td>-0.0247</td>\n",
       "      <td>-0.0506</td>\n",
       "      <td>-0.0481</td>\n",
       "      <td>-0.0342</td>\n",
       "      <td>-0.0424</td>\n",
       "      <td>-0.0424</td>\n",
       "      <td>-0.0410</td>\n",
       "    </tr>\n",
       "    <tr>\n",
       "      <th>2020-03-06</th>\n",
       "      <td>-0.0627</td>\n",
       "      <td>-0.0133</td>\n",
       "      <td>-0.0237</td>\n",
       "      <td>-0.0079</td>\n",
       "      <td>-0.0129</td>\n",
       "      <td>-0.0348</td>\n",
       "      <td>-0.0099</td>\n",
       "      <td>0.0008</td>\n",
       "      <td>-0.0035</td>\n",
       "      <td>-0.0182</td>\n",
       "      <td>...</td>\n",
       "      <td>-0.0163</td>\n",
       "      <td>-0.0022</td>\n",
       "      <td>-0.0213</td>\n",
       "      <td>-0.0083</td>\n",
       "      <td>-0.0036</td>\n",
       "      <td>-0.0335</td>\n",
       "      <td>-0.0139</td>\n",
       "      <td>-0.0330</td>\n",
       "      <td>-0.0297</td>\n",
       "      <td>-0.0169</td>\n",
       "    </tr>\n",
       "    <tr>\n",
       "      <th>2020-03-09</th>\n",
       "      <td>-0.0843</td>\n",
       "      <td>-0.0454</td>\n",
       "      <td>-0.0618</td>\n",
       "      <td>-0.0592</td>\n",
       "      <td>-0.0567</td>\n",
       "      <td>-0.0849</td>\n",
       "      <td>-0.0833</td>\n",
       "      <td>-0.0796</td>\n",
       "      <td>-0.0494</td>\n",
       "      <td>-0.0716</td>\n",
       "      <td>...</td>\n",
       "      <td>-0.0744</td>\n",
       "      <td>-0.0964</td>\n",
       "      <td>-0.0791</td>\n",
       "      <td>-0.0446</td>\n",
       "      <td>-0.0643</td>\n",
       "      <td>-0.1193</td>\n",
       "      <td>-0.0750</td>\n",
       "      <td>-0.1013</td>\n",
       "      <td>-0.0892</td>\n",
       "      <td>-0.0702</td>\n",
       "    </tr>\n",
       "    <tr>\n",
       "      <th>2020-03-10</th>\n",
       "      <td>0.1061</td>\n",
       "      <td>0.0205</td>\n",
       "      <td>0.0397</td>\n",
       "      <td>0.0231</td>\n",
       "      <td>0.0405</td>\n",
       "      <td>0.0181</td>\n",
       "      <td>0.0614</td>\n",
       "      <td>0.0490</td>\n",
       "      <td>0.0365</td>\n",
       "      <td>0.0441</td>\n",
       "      <td>...</td>\n",
       "      <td>0.0339</td>\n",
       "      <td>0.0535</td>\n",
       "      <td>0.0416</td>\n",
       "      <td>0.0431</td>\n",
       "      <td>0.0561</td>\n",
       "      <td>0.0686</td>\n",
       "      <td>0.0446</td>\n",
       "      <td>0.0508</td>\n",
       "      <td>0.0535</td>\n",
       "      <td>0.0476</td>\n",
       "    </tr>\n",
       "  </tbody>\n",
       "</table>\n",
       "<p>5 rows × 48 columns</p>\n",
       "</div>"
      ],
      "text/plain": [
       "             Agric   Food    Soda    Beer    Smoke   Toys    Fun     Books  \\\n",
       "Date                                                                         \n",
       "2020-03-04  0.0332  0.0404  0.0526  0.0443  0.0573  0.0283  0.0290  0.0212   \n",
       "2020-03-05 -0.0488 -0.0167 -0.0340 -0.0249 -0.0129 -0.0374 -0.0472 -0.0413   \n",
       "2020-03-06 -0.0627 -0.0133 -0.0237 -0.0079 -0.0129 -0.0348 -0.0099  0.0008   \n",
       "2020-03-09 -0.0843 -0.0454 -0.0618 -0.0592 -0.0567 -0.0849 -0.0833 -0.0796   \n",
       "2020-03-10  0.1061  0.0205  0.0397  0.0231  0.0405  0.0181  0.0614  0.0490   \n",
       "\n",
       "             Hshld   Clths  ...   Boxes   Trans   Whlsl   Rtail   Meals  \\\n",
       "Date                        ...                                           \n",
       "2020-03-04  0.0483  0.0329  ...  0.0319  0.0392  0.0320  0.0378  0.0292   \n",
       "2020-03-05 -0.0252 -0.0393  ... -0.0316 -0.0517 -0.0350 -0.0247 -0.0506   \n",
       "2020-03-06 -0.0035 -0.0182  ... -0.0163 -0.0022 -0.0213 -0.0083 -0.0036   \n",
       "2020-03-09 -0.0494 -0.0716  ... -0.0744 -0.0964 -0.0791 -0.0446 -0.0643   \n",
       "2020-03-10  0.0365  0.0441  ...  0.0339  0.0535  0.0416  0.0431  0.0561   \n",
       "\n",
       "             Banks   Insur   RlEst   Fin     Other  \n",
       "Date                                                \n",
       "2020-03-04  0.0301  0.0728  0.0259  0.0235  0.0408  \n",
       "2020-03-05 -0.0481 -0.0342 -0.0424 -0.0424 -0.0410  \n",
       "2020-03-06 -0.0335 -0.0139 -0.0330 -0.0297 -0.0169  \n",
       "2020-03-09 -0.1193 -0.0750 -0.1013 -0.0892 -0.0702  \n",
       "2020-03-10  0.0686  0.0446  0.0508  0.0535  0.0476  \n",
       "\n",
       "[5 rows x 48 columns]"
      ]
     },
     "execution_count": 4,
     "metadata": {},
     "output_type": "execute_result"
    }
   ],
   "source": [
    "data: pd.DataFrame = get_fama_french_data(dataset_name='48_Industry_Portfolios_daily')\n",
    "data: pd.DataFrame = convert_percentage_to_decimal(data)\n",
    "data.head()"
   ]
  },
  {
   "cell_type": "markdown",
   "metadata": {},
   "source": [
    "<h3>Check for stationarity</h3>"
   ]
  },
  {
   "cell_type": "code",
   "execution_count": 5,
   "metadata": {},
   "outputs": [
    {
     "name": "stdout",
     "output_type": "stream",
     "text": [
      "All columns in the dataset are stationary.\n"
     ]
    }
   ],
   "source": [
    "def check_stationarity(dataset: pd.DataFrame, critical_value: float = 0.05, verbose: bool = True, return_result: bool = False) -> None | list[bool]:\n",
    "    \"\"\"\n",
    "    This function checks the stationarity of each column in a given pandas DataFrame using the Augmented Dickey-Fuller (ADF) test.\n",
    "    \n",
    "    Parameters:\n",
    "    dataset (pd.DataFrame): The DataFrame containing the time series data. Each column represents a different time series.\n",
    "    critical_value (float, optional): The critical value for the ADF test. If the p-value is less than this value, the time series is considered stationary. Default is 0.05.\n",
    "    verbose (bool, optional): If True, the function will print a message for each non-stationary column. Default is True.\n",
    "    return_result (bool, optional): If True, the function will return a list of boolean values indicating the stationarity of each column. Default is False.\n",
    "    \n",
    "    Returns:\n",
    "    None: If return_result is False and all columns are stationary.\n",
    "    list[bool]: A list of boolean values indicating the stationarity of each column. If return_result is True.\n",
    "    \"\"\"\n",
    "    result: list[bool] = []\n",
    "    for col in dataset.columns:\n",
    "        try:\n",
    "            dftest = adfuller(dataset[col], autolag='AIC')\n",
    "            stationary: bool = dftest[1] < critical_value\n",
    "            if verbose and not stationary:\n",
    "                print(f\"Column '{col}' is not stationary (p-value: {dftest[1]:.4f})\")\n",
    "            result.append(stationary)\n",
    "        except Exception as e:\n",
    "            print(f\"Unable to check stationarity for column '{col}': {e}\")\n",
    "    \n",
    "    if False not in result:\n",
    "        print(\"All columns in the dataset are stationary.\")\n",
    "    \n",
    "    if return_result:\n",
    "        return result\n",
    "\n",
    "check_stationarity(data)"
   ]
  },
  {
   "cell_type": "markdown",
   "metadata": {},
   "source": [
    "<h3>Function for finding the minimum variance portfolio (MVP) without regularization</h3>\n"
   ]
  },
  {
   "cell_type": "code",
   "execution_count": null,
   "metadata": {},
   "outputs": [
    {
     "data": {
      "image/png": "[encoded data removed]",
      "text/plain": [
       "<Figure size 640x480 with 1 Axes>"
      ]
     },
     "metadata": {},
     "output_type": "display_data"
    }
   ],
   "source": [
    "def minimum_variance_without_regularization(returns: pd.DataFrame, min_expected_return: float = 0.1, days_per_year: int = 252, verbose: bool = False) -> tuple[np.array, float]:\n",
    "    \"\"\"\n",
    "    This function calculates the minimum variance portfolio without regularization.\n",
    "\n",
    "    Parameters:\n",
    "    returns (pd.DataFrame): A pandas DataFrame containing the daily returns of the assets in the portfolio. Each column represents an asset.\n",
    "    min_expected_return (float, optional): The minimum expected yearly return for the portfolio. Default is 0.1 (10%).\n",
    "    days_per_year (int, optional): The number of trading days in a year. Default is 252 (assuming a trading year of 252 days).\n",
    "    verbose (bool, optional): If True, the function will print optimization progress. Default is False.\n",
    "\n",
    "    Returns:\n",
    "    tuple[np.array, float]: A tuple containing the optimal weights for each asset in the portfolio (as a numpy array) and the corresponding minimum risk (annualized).\n",
    "    \"\"\"\n",
    "    observations: int = returns.shape[0]\n",
    "    num_assets: int = returns.shape[1]\n",
    "    \n",
    "    # Convert minimum expected yearly return to daily return\n",
    "    min_daily_return: float = min_expected_return / days_per_year\n",
    "    \n",
    "    # Compute mean daily returns and covariance matrix\n",
    "    mean_returns: np.array = returns.mean().values  # Expected daily returns\n",
    "    cov_matrix: np.array = returns.cov().values    # Covariance matrix of returns\n",
    "    \n",
    "    # Define optimization variables\n",
    "    weights: cp.Variable = cp.Variable(num_assets)\n",
    "        \n",
    "    # Define objective function (minimize portfolio variance)\n",
    "    objective = cp.Minimize(weights.T @ cov_matrix @ weights)\n",
    "    # The objective function could also be written as:\n",
    "    # objective = cp.Minimize((1/observations) * cp.sum_squares(min_daily_return * np.ones(observations) - returns.values @ weights))\n",
    "    \n",
    "    # Define constraints\n",
    "    constraints = [\n",
    "        cp.sum(weights) == 1,  # Weights must sum to 1 | fully invested portfolio\n",
    "        # weights >= 0,  # No short-selling constraint\n",
    "        mean_returns @ weights == min_daily_return  # Minimum expected return constraint\n",
    "    ]\n",
    "    \n",
    "    # Solve the optimization problem\n",
    "    problem = cp.Problem(objective, constraints)\n",
    "    problem.solve(verbose=verbose)\n",
    "    \n",
    "    min_risk_annualized = np.sqrt(problem.value * 252)\n",
    "    \n",
    "    # Return the optimal weights\n",
    "    return weights.value, min_risk_annualized\n",
    "\n",
    "# Show the minimum variance portfolios for different minimum expected returns\n",
    "expected_returns: list[float] = [r / 100 for r in range(41)]\n",
    "risks_to_take: list[float] = [minimum_variance_without_regularization(data, min_expected_return=r)[1] for r in expected_returns]\n",
    "\n",
    "fig = plt.figure()\n",
    "ax = fig.add_subplot()\n",
    "ax.set_xlabel('Annualized Expected Volatility')\n",
    "ax.set_ylabel('Annualized Expected Return')\n",
    "plt.scatter(risks_to_take, expected_returns, color='b')\n",
    "pass"
   ]
  },
  {
   "cell_type": "markdown",
   "metadata": {},
   "source": [
    "<h3>Function for finding the minimum variance portfolio (MVP) including L1 regularization</h3>"
   ]
  },
  {
   "cell_type": "code",
   "execution_count": 12,
   "metadata": {},
   "outputs": [
    {
     "data": {
      "image/png": "[encoded data removed]",
      "text/plain": [
       "<Figure size 640x480 with 1 Axes>"
      ]
     },
     "metadata": {},
     "output_type": "display_data"
    }
   ],
   "source": [
    "def minimum_variance_with_regularization(returns: pd.DataFrame, min_expected_return: float = 0.1, days_per_year: int = 252, tau: float = 0.0, verbose: bool = False) -> tuple[np.array, float]:\n",
    "    \"\"\"\n",
    "    This function calculates the minimum variance portfolio with L1 regularization.\n",
    "\n",
    "    Parameters:\n",
    "    returns (pd.DataFrame): A pandas DataFrame containing the daily returns of the assets in the portfolio. Each column represents an asset.\n",
    "    min_expected_return (float, optional): The minimum expected yearly return for the portfolio. Default is 0.1 (10%).\n",
    "    days_per_year (int, optional): The number of trading days in a year. Default is 252 (assuming a trading year of 252 days).\n",
    "    tau (float, optional): The regularization parameter for L1 regularization. A higher value of tau leads to more sparse solutions. Default is 0.0.\n",
    "    verbose (bool, optional): If True, the function will print optimization progress. Default is False.\n",
    "\n",
    "    Returns:\n",
    "    tuple[np.array, float]: A tuple containing the optimal weights for each asset in the portfolio (as a numpy array) and the corresponding minimum risk (annualized).\n",
    "    \"\"\"\n",
    "    observations: int = returns.shape[0]\n",
    "    num_assets: int = returns.shape[1]\n",
    "    \n",
    "    # Convert minimum expected yearly return to daily return\n",
    "    min_daily_return: float = min_expected_return / days_per_year\n",
    "    \n",
    "    # Define optimization variables\n",
    "    weights: cp.Variable = cp.Variable(num_assets)\n",
    "            \n",
    "    # Define objective function (minimize portfolio variance)\n",
    "    if tau == 0.0:\n",
    "        objective = cp.Minimize((1 / observations) * cp.sum_squares(min_daily_return * np.ones(observations) - returns.values @ weights))\n",
    "    else:\n",
    "        objective = cp.Minimize((1 / observations) * cp.sum_squares(min_daily_return * np.ones(observations) - returns.values @ weights) + tau / observations * cp.sum(cp.abs(weights)))\n",
    "    \n",
    "    # Define constraints\n",
    "    constraints = [\n",
    "        weights.T @ np.ones(num_assets) == 1,\n",
    "        weights.T @ np.mean(returns, axis=0) == min_daily_return\n",
    "    ]\n",
    "    \n",
    "    # Solve the optimization problem\n",
    "    problem = cp.Problem(objective, constraints)\n",
    "    problem.solve(verbose=verbose)\n",
    "    \n",
    "    min_risk_annualized = np.sqrt(problem.value * 252)\n",
    "    \n",
    "    # Return the optimal weights and the annualized expected volatility\n",
    "    return weights.value, min_risk_annualized\n",
    "\n",
    "expected_returns: list[float] = [r / 100 for r in range(41)]\n",
    "risks_to_take: list[float] = [minimum_variance_with_regularization(data, min_expected_return=r)[1] for r in expected_returns]\n",
    "\n",
    "fig = plt.figure()\n",
    "ax = fig.add_subplot()\n",
    "ax.set_xlabel('Annualized Expected Volatility')\n",
    "ax.set_ylabel('Annualized Expected Return')\n",
    "plt.scatter(risks_to_take, expected_returns, color='b')\n",
    "pass"
   ]
  },
  {
   "cell_type": "markdown",
   "metadata": {},
   "source": [
    "<h3>Show how many assets the regularized portfolio consists of as a function of tau, the regularization parameter</h3>\n",
    "Tau = 0 shows the amount of assets if no regularization term is included. It can be noticed that as soon as the term is included, the number of assets the portfolio consists of, declines."
   ]
  },
  {
   "cell_type": "code",
   "execution_count": null,
   "metadata": {},
   "outputs": [
    {
     "data": {
      "text/plain": [
       "Text(0, 0.5, 'Number Of Assets')"
      ]
     },
     "execution_count": 16,
     "metadata": {},
     "output_type": "execute_result"
    },
    {
     "data": {
      "image/png": "[encoded data removed]",
      "text/plain": [
       "<Figure size 640x480 with 1 Axes>"
      ]
     },
     "metadata": {},
     "output_type": "display_data"
    }
   ],
   "source": [
    "tau_range: list[float] = [tau / 10 for tau in range(100)]\n",
    "\n",
    "dummy: list[np.array] = [minimum_variance_with_regularization(data, min_expected_return=0.1, tau=tau)[0] for tau in tau_range]\n",
    "\n",
    "number_of_assets: list[int] = []\n",
    "for run in dummy:\n",
    "    number_of_assets.append(sum([1 for b in run if b > 0.0001]))\n",
    "    \n",
    "plt.scatter(tau_range, number_of_assets, color='b')\n",
    "plt.xlabel('Tau')\n",
    "plt.ylabel('Number Of Assets')"
   ]
  },
  {
   "cell_type": "markdown",
   "metadata": {},
   "source": [
    "TODO's\n",
    "<ul>\n",
    "    <li>Implement the functions above not for the maximum sharpe ratio portfolios</li>\n",
    "    <li>Implement a function to simulate the performance of the portfolio over time including rebalancing every month/year?</li>\n",
    "    <li>Compare the performance of the portfolio including regularization with the performance of the portfolios without</li>\n",
    "    <li>Implement the 1/N portfolio</li>\n",
    "</ul>"
   ]
  }
 ],
 "metadata": {
  "kernelspec": {
   "display_name": "base",
   "language": "python",
   "name": "python3"
  },
  "language_info": {
   "codemirror_mode": {
    "name": "ipython",
    "version": 3
   },
   "file_extension": ".py",
   "mimetype": "text/x-python",
   "name": "python",
   "nbconvert_exporter": "python",
   "pygments_lexer": "ipython3",
   "version": "3.12.7"
  }
 },
 "nbformat": 4,
 "nbformat_minor": 2
}
